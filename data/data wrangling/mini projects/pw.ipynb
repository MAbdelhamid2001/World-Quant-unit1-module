{
 "cells": [
  {
   "cell_type": "code",
   "execution_count": 35,
   "metadata": {
    "init_cell": true
   },
   "outputs": [],
   "source": [
    "%logstop\n",
    "%logstart -rtq ~/.logs/pw.py append\n",
    "import seaborn as sns\n",
    "sns.set()"
   ]
  },
  {
   "cell_type": "code",
   "execution_count": 6,
   "metadata": {},
   "outputs": [],
   "source": [
    "from static_grader import grader"
   ]
  },
  {
   "cell_type": "markdown",
   "metadata": {},
   "source": [
    "# PW Miniproject\n",
    "## Introduction\n",
    "\n",
    "The objective of this miniproject is to exercise your ability to use basic Python data structures, define functions, and control program flow. We will be using these concepts to perform some fundamental data wrangling tasks such as joining data sets together, splitting data into groups, and aggregating data into summary statistics.\n",
    "**Please do not use `pandas` or `numpy` to answer these questions.**\n",
    "\n",
    "We will be working with medical data from the British NHS on prescription drugs. Since this is real data, it contains many ambiguities that we will need to confront in our analysis. This is commonplace in data science, and is one of the lessons you will learn in this miniproject."
   ]
  },
  {
   "cell_type": "markdown",
   "metadata": {},
   "source": [
    "## Downloading the data\n",
    "\n",
    "We first need to download the data we'll be using from Amazon S3:"
   ]
  },
  {
   "cell_type": "code",
   "execution_count": 7,
   "metadata": {},
   "outputs": [
    {
     "name": "stderr",
     "output_type": "stream",
     "text": [
      "--2021-11-16 07:42:56--  http://dataincubator-wqu.s3.amazonaws.com/pwdata/201701scripts_sample.json.gz\n",
      "Resolving dataincubator-wqu.s3.amazonaws.com (dataincubator-wqu.s3.amazonaws.com)... 52.217.161.209\n",
      "Connecting to dataincubator-wqu.s3.amazonaws.com (dataincubator-wqu.s3.amazonaws.com)|52.217.161.209|:80... connected.\n",
      "HTTP request sent, awaiting response... 200 OK\n",
      "Length: 10367709 (9.9M) [application/json]\n",
      "Saving to: ‘./pw-data/201701scripts_sample.json.gz’\n",
      "\n",
      "     0K .......... .......... .......... .......... ..........  0% 3.66M 3s\n",
      "    50K .......... .......... .......... .......... ..........  0% 6.87M 2s\n",
      "   100K .......... .......... .......... .......... ..........  1% 6.99M 2s\n",
      "   150K .......... .......... .......... .......... ..........  1% 24.9M 1s\n",
      "   200K .......... .......... .......... .......... ..........  2% 35.4M 1s\n",
      "   250K .......... .......... .......... .......... ..........  2% 30.1M 1s\n",
      "   300K .......... .......... .......... .......... ..........  3% 12.2M 1s\n",
      "   350K .......... .......... .......... .......... ..........  3% 37.0M 1s\n",
      "   400K .......... .......... .......... .......... ..........  4%  196M 1s\n",
      "   450K .......... .......... .......... .......... ..........  4%  218M 1s\n",
      "   500K .......... .......... .......... .......... ..........  5%  185M 1s\n",
      "   550K .......... .......... .......... .......... ..........  5%  204M 1s\n",
      "   600K .......... .......... .......... .......... ..........  6% 8.88M 1s\n",
      "   650K .......... .......... .......... .......... ..........  6% 36.8M 1s\n",
      "   700K .......... .......... .......... .......... ..........  7% 34.2M 1s\n",
      "   750K .......... .......... .......... .......... ..........  7% 12.7M 1s\n",
      "   800K .......... .......... .......... .......... ..........  8% 8.54M 1s\n",
      "   850K .......... .......... .......... .......... ..........  8%  188M 1s\n",
      "   900K .......... .......... .......... .......... ..........  9%  211M 1s\n",
      "   950K .......... .......... .......... .......... ..........  9%  110M 1s\n",
      "  1000K .......... .......... .......... .......... .......... 10% 72.3M 1s\n",
      "  1050K .......... .......... .......... .......... .......... 10%  212M 0s\n",
      "  1100K .......... .......... .......... .......... .......... 11%  222M 0s\n",
      "  1150K .......... .......... .......... .......... .......... 11%  172M 0s\n",
      "  1200K .......... .......... .......... .......... .......... 12% 8.07M 0s\n",
      "  1250K .......... .......... .......... .......... .......... 12% 13.8M 0s\n",
      "  1300K .......... .......... .......... .......... .......... 13% 8.01M 0s\n",
      "  1350K .......... .......... .......... .......... .......... 13% 23.6M 0s\n",
      "  1400K .......... .......... .......... .......... .......... 14% 15.3M 0s\n",
      "  1450K .......... .......... .......... .......... .......... 14% 17.4M 0s\n",
      "  1500K .......... .......... .......... .......... .......... 15%  173M 0s\n",
      "  1550K .......... .......... .......... .......... .......... 15% 8.39M 0s\n",
      "  1600K .......... .......... .......... .......... .......... 16%  184M 0s\n",
      "  1650K .......... .......... .......... .......... .......... 16%  213M 0s\n",
      "  1700K .......... .......... .......... .......... .......... 17%  214M 0s\n",
      "  1750K .......... .......... .......... .......... .......... 17%  159M 0s\n",
      "  1800K .......... .......... .......... .......... .......... 18%  208M 0s\n",
      "  1850K .......... .......... .......... .......... .......... 18%  221M 0s\n",
      "  1900K .......... .......... .......... .......... .......... 19%  209M 0s\n",
      "  1950K .......... .......... .......... .......... .......... 19%  165M 0s\n",
      "  2000K .......... .......... .......... .......... .......... 20%  228M 0s\n",
      "  2050K .......... .......... .......... .......... .......... 20% 10.3M 0s\n",
      "  2100K .......... .......... .......... .......... .......... 21% 11.9M 0s\n",
      "  2150K .......... .......... .......... .......... .......... 21% 12.3M 0s\n",
      "  2200K .......... .......... .......... .......... .......... 22% 13.7M 0s\n",
      "  2250K .......... .......... .......... .......... .......... 22% 10.4M 0s\n",
      "  2300K .......... .......... .......... .......... .......... 23% 14.9M 0s\n",
      "  2350K .......... .......... .......... .......... .......... 23%  163M 0s\n",
      "  2400K .......... .......... .......... .......... .......... 24%  154M 0s\n",
      "  2450K .......... .......... .......... .......... .......... 24%  223M 0s\n",
      "  2500K .......... .......... .......... .......... .......... 25%  213M 0s\n",
      "  2550K .......... .......... .......... .......... .......... 25%  178M 0s\n",
      "  2600K .......... .......... .......... .......... .......... 26%  215M 0s\n",
      "  2650K .......... .......... .......... .......... .......... 26%  197M 0s\n",
      "  2700K .......... .......... .......... .......... .......... 27%  175M 0s\n",
      "  2750K .......... .......... .......... .......... .......... 27%  178M 0s\n",
      "  2800K .......... .......... .......... .......... .......... 28%  207M 0s\n",
      "  2850K .......... .......... .......... .......... .......... 28%  226M 0s\n",
      "  2900K .......... .......... .......... .......... .......... 29%  215M 0s\n",
      "  2950K .......... .......... .......... .......... .......... 29%  192M 0s\n",
      "  3000K .......... .......... .......... .......... .......... 30%  208M 0s\n",
      "  3050K .......... .......... .......... .......... .......... 30% 4.91M 0s\n",
      "  3100K .......... .......... .......... .......... .......... 31% 8.50M 0s\n",
      "  3150K .......... .......... .......... .......... .......... 31% 29.5M 0s\n",
      "  3200K .......... .......... .......... .......... .......... 32% 13.1M 0s\n",
      "  3250K .......... .......... .......... .......... .......... 32% 38.6M 0s\n",
      "  3300K .......... .......... .......... .......... .......... 33%  219M 0s\n",
      "  3350K .......... .......... .......... .......... .......... 33%  179M 0s\n",
      "  3400K .......... .......... .......... .......... .......... 34%  219M 0s\n",
      "  3450K .......... .......... .......... .......... .......... 34%  221M 0s\n",
      "  3500K .......... .......... .......... .......... .......... 35% 15.8M 0s\n",
      "  3550K .......... .......... .......... .......... .......... 35% 30.8M 0s\n",
      "  3600K .......... .......... .......... .......... .......... 36% 31.5M 0s\n",
      "  3650K .......... .......... .......... .......... .......... 36% 19.1M 0s\n",
      "  3700K .......... .......... .......... .......... .......... 37% 59.2M 0s\n",
      "  3750K .......... .......... .......... .......... .......... 37% 74.0M 0s\n",
      "  3800K .......... .......... .......... .......... .......... 38%  199M 0s\n",
      "  3850K .......... .......... .......... .......... .......... 38%  202M 0s\n",
      "  3900K .......... .......... .......... .......... .......... 39%  237M 0s\n",
      "  3950K .......... .......... .......... .......... .......... 39%  187M 0s\n",
      "  4000K .......... .......... .......... .......... .......... 40%  214M 0s\n",
      "  4050K .......... .......... .......... .......... .......... 40%  224M 0s\n",
      "  4100K .......... .......... .......... .......... .......... 40%  206M 0s\n",
      "  4150K .......... .......... .......... .......... .......... 41%  161M 0s\n",
      "  4200K .......... .......... .......... .......... .......... 41%  223M 0s\n",
      "  4250K .......... .......... .......... .......... .......... 42%  202M 0s\n",
      "  4300K .......... .......... .......... .......... .......... 42% 78.6M 0s\n",
      "  4350K .......... .......... .......... .......... .......... 43% 18.6M 0s\n",
      "  4400K .......... .......... .......... .......... .......... 43% 19.1M 0s\n",
      "  4450K .......... .......... .......... .......... .......... 44% 23.4M 0s\n",
      "  4500K .......... .......... .......... .......... .......... 44% 23.4M 0s\n",
      "  4550K .......... .......... .......... .......... .......... 45% 27.6M 0s\n",
      "  4600K .......... .......... .......... .......... .......... 45% 63.8M 0s\n",
      "  4650K .......... .......... .......... .......... .......... 46%  212M 0s\n",
      "  4700K .......... .......... .......... .......... .......... 46%  203M 0s\n",
      "  4750K .......... .......... .......... .......... .......... 47%  183M 0s\n",
      "  4800K .......... .......... .......... .......... .......... 47%  213M 0s\n",
      "  4850K .......... .......... .......... .......... .......... 48%  212M 0s\n",
      "  4900K .......... .......... .......... .......... .......... 48% 84.5M 0s\n",
      "  4950K .......... .......... .......... .......... .......... 49%  186M 0s\n",
      "  5000K .......... .......... .......... .......... .......... 49%  214M 0s\n",
      "  5050K .......... .......... .......... .......... .......... 50%  205M 0s\n",
      "  5100K .......... .......... .......... .......... .......... 50%  216M 0s\n",
      "  5150K .......... .......... .......... .......... .......... 51%  197M 0s\n",
      "  5200K .......... .......... .......... .......... .......... 51% 98.0M 0s\n",
      "  5250K .......... .......... .......... .......... .......... 52% 45.7M 0s\n",
      "  5300K .......... .......... .......... .......... .......... 52% 28.2M 0s\n",
      "  5350K .......... .......... .......... .......... .......... 53% 16.5M 0s\n",
      "  5400K .......... .......... .......... .......... .......... 53% 22.9M 0s\n",
      "  5450K .......... .......... .......... .......... .......... 54% 26.8M 0s\n",
      "  5500K .......... .......... .......... .......... .......... 54% 35.3M 0s\n",
      "  5550K .......... .......... .......... .......... .......... 55% 78.7M 0s\n",
      "  5600K .......... .......... .......... .......... .......... 55%  107M 0s\n",
      "  5650K .......... .......... .......... .......... .......... 56%  125M 0s\n",
      "  5700K .......... .......... .......... .......... .......... 56%  211M 0s\n",
      "  5750K .......... .......... .......... .......... .......... 57%  101M 0s\n",
      "  5800K .......... .......... .......... .......... .......... 57%  203M 0s\n",
      "  5850K .......... .......... .......... .......... .......... 58% 98.8M 0s\n",
      "  5900K .......... .......... .......... .......... .......... 58%  212M 0s\n",
      "  5950K .......... .......... .......... .......... .......... 59%  171M 0s\n",
      "  6000K .......... .......... .......... .......... .......... 59%  231M 0s\n",
      "  6050K .......... .......... .......... .......... .......... 60%  218M 0s\n",
      "  6100K .......... .......... .......... .......... .......... 60%  214M 0s\n",
      "  6150K .......... .......... .......... .......... .......... 61% 23.1M 0s\n",
      "  6200K .......... .......... .......... .......... .......... 61% 24.7M 0s\n",
      "  6250K .......... .......... .......... .......... .......... 62% 29.9M 0s\n",
      "  6300K .......... .......... .......... .......... .......... 62% 38.5M 0s\n",
      "  6350K .......... .......... .......... .......... .......... 63% 47.1M 0s\n",
      "  6400K .......... .......... .......... .......... .......... 63%  219M 0s\n",
      "  6450K .......... .......... .......... .......... .......... 64%  235M 0s\n",
      "  6500K .......... .......... .......... .......... .......... 64%  185M 0s\n",
      "  6550K .......... .......... .......... .......... .......... 65%  188M 0s\n",
      "  6600K .......... .......... .......... .......... .......... 65%  188M 0s\n",
      "  6650K .......... .......... .......... .......... .......... 66%  214M 0s\n",
      "  6700K .......... .......... .......... .......... .......... 66%  221M 0s\n",
      "  6750K .......... .......... .......... .......... .......... 67%  175M 0s\n",
      "  6800K .......... .......... .......... .......... .......... 67%  154M 0s\n",
      "  6850K .......... .......... .......... .......... .......... 68%  217M 0s\n",
      "  6900K .......... .......... .......... .......... .......... 68%  218M 0s\n",
      "  6950K .......... .......... .......... .......... .......... 69%  180M 0s\n",
      "  7000K .......... .......... .......... .......... .......... 69%  188M 0s\n",
      "  7050K .......... .......... .......... .......... .......... 70%  218M 0s\n",
      "  7100K .......... .......... .......... .......... .......... 70%  196M 0s\n",
      "  7150K .......... .......... .......... .......... .......... 71%  187M 0s\n",
      "  7200K .......... .......... .......... .......... .......... 71%  222M 0s\n",
      "  7250K .......... .......... .......... .......... .......... 72%  204M 0s\n",
      "  7300K .......... .......... .......... .......... .......... 72%  201M 0s\n",
      "  7350K .......... .......... .......... .......... .......... 73%  182M 0s\n",
      "  7400K .......... .......... .......... .......... .......... 73% 35.5M 0s\n",
      "  7450K .......... .......... .......... .......... .......... 74% 34.3M 0s\n",
      "  7500K .......... .......... .......... .......... .......... 74% 34.5M 0s\n",
      "  7550K .......... .......... .......... .......... .......... 75% 30.0M 0s\n",
      "  7600K .......... .......... .......... .......... .......... 75% 36.2M 0s\n",
      "  7650K .......... .......... .......... .......... .......... 76% 36.1M 0s\n",
      "  7700K .......... .......... .......... .......... .......... 76%  195M 0s\n",
      "  7750K .......... .......... .......... .......... .......... 77%  166M 0s\n",
      "  7800K .......... .......... .......... .......... .......... 77%  200M 0s\n",
      "  7850K .......... .......... .......... .......... .......... 78%  142M 0s\n",
      "  7900K .......... .......... .......... .......... .......... 78%  208M 0s\n",
      "  7950K .......... .......... .......... .......... .......... 79%  184M 0s\n",
      "  8000K .......... .......... .......... .......... .......... 79%  202M 0s\n",
      "  8050K .......... .......... .......... .......... .......... 80%  202M 0s\n",
      "  8100K .......... .......... .......... .......... .......... 80%  215M 0s\n",
      "  8150K .......... .......... .......... .......... .......... 80%  187M 0s\n",
      "  8200K .......... .......... .......... .......... .......... 81%  196M 0s\n",
      "  8250K .......... .......... .......... .......... .......... 81%  210M 0s\n",
      "  8300K .......... .......... .......... .......... .......... 82%  185M 0s\n",
      "  8350K .......... .......... .......... .......... .......... 82% 43.6M 0s\n",
      "  8400K .......... .......... .......... .......... .......... 83% 33.3M 0s\n",
      "  8450K .......... .......... .......... .......... .......... 83% 29.4M 0s\n",
      "  8500K .......... .......... .......... .......... .......... 84% 34.8M 0s\n",
      "  8550K .......... .......... .......... .......... .......... 84% 30.6M 0s\n",
      "  8600K .......... .......... .......... .......... .......... 85% 38.0M 0s\n",
      "  8650K .......... .......... .......... .......... .......... 85%  194M 0s\n",
      "  8700K .......... .......... .......... .......... .......... 86%  195M 0s\n",
      "  8750K .......... .......... .......... .......... .......... 86%  191M 0s\n",
      "  8800K .......... .......... .......... .......... .......... 87%  206M 0s\n",
      "  8850K .......... .......... .......... .......... .......... 87%  216M 0s\n",
      "  8900K .......... .......... .......... .......... .......... 88%  217M 0s\n",
      "  8950K .......... .......... .......... .......... .......... 88%  177M 0s\n",
      "  9000K .......... .......... .......... .......... .......... 89%  215M 0s\n",
      "  9050K .......... .......... .......... .......... .......... 89%  219M 0s\n",
      "  9100K .......... .......... .......... .......... .......... 90%  211M 0s\n",
      "  9150K .......... .......... .......... .......... .......... 90%  190M 0s\n",
      "  9200K .......... .......... .......... .......... .......... 91%  215M 0s\n",
      "  9250K .......... .......... .......... .......... .......... 91%  229M 0s\n",
      "  9300K .......... .......... .......... .......... .......... 92%  202M 0s\n",
      "  9350K .......... .......... .......... .......... .......... 92%  191M 0s\n",
      "  9400K .......... .......... .......... .......... .......... 93% 34.9M 0s\n",
      "  9450K .......... .......... .......... .......... .......... 93% 35.0M 0s\n",
      "  9500K .......... .......... .......... .......... .......... 94% 33.9M 0s\n",
      "  9550K .......... .......... .......... .......... .......... 94% 30.8M 0s\n",
      "  9600K .......... .......... .......... .......... .......... 95% 35.0M 0s\n",
      "  9650K .......... .......... .......... .......... .......... 95% 42.2M 0s\n",
      "  9700K .......... .......... .......... .......... .......... 96%  193M 0s\n",
      "  9750K .......... .......... .......... .......... .......... 96%  175M 0s\n",
      "  9800K .......... .......... .......... .......... .......... 97%  205M 0s\n",
      "  9850K .......... .......... .......... .......... .......... 97% 28.6M 0s\n",
      "  9900K .......... .......... .......... .......... .......... 98% 34.6M 0s\n",
      "  9950K .......... .......... .......... .......... .......... 98% 34.9M 0s\n",
      " 10000K .......... .......... .......... .......... .......... 99%  201M 0s\n",
      " 10050K .......... .......... .......... .......... .......... 99%  196M 0s\n",
      " 10100K .......... .......... ....                            100%  213M=0.2s\n",
      "\n",
      "2021-11-16 07:42:56 (41.7 MB/s) - ‘./pw-data/201701scripts_sample.json.gz’ saved [10367709/10367709]\n",
      "\n",
      "--2021-11-16 07:42:56--  http://dataincubator-wqu.s3.amazonaws.com/pwdata/practices.json.gz\n",
      "Resolving dataincubator-wqu.s3.amazonaws.com (dataincubator-wqu.s3.amazonaws.com)... 52.217.161.209\n",
      "Connecting to dataincubator-wqu.s3.amazonaws.com (dataincubator-wqu.s3.amazonaws.com)|52.217.161.209|:80... connected.\n",
      "HTTP request sent, awaiting response... 200 OK\n",
      "Length: 402461 (393K) [application/json]\n",
      "Saving to: ‘./pw-data/practices.json.gz’\n",
      "\n",
      "     0K .......... .......... .......... .......... .......... 12% 3.62M 0s\n",
      "    50K .......... .......... .......... .......... .......... 25% 6.47M 0s\n",
      "   100K .......... .......... .......... .......... .......... 38% 7.26M 0s\n",
      "   150K .......... .......... .......... .......... .......... 50% 62.1M 0s\n",
      "   200K .......... .......... .......... .......... .......... 63% 57.2M 0s\n",
      "   250K .......... .......... .......... .......... .......... 76% 10.8M 0s\n",
      "   300K .......... .......... .......... .......... .......... 89% 24.3M 0s\n",
      "   350K .......... .......... .......... .......... ...       100% 36.3M=0.04s\n",
      "\n",
      "2021-11-16 07:42:56 (10.3 MB/s) - ‘./pw-data/practices.json.gz’ saved [402461/402461]\n",
      "\n"
     ]
    }
   ],
   "source": [
    "%%bash\n",
    "mkdir pw-data\n",
    "wget http://dataincubator-wqu.s3.amazonaws.com/pwdata/201701scripts_sample.json.gz -nc -P ./pw-data\n",
    "wget http://dataincubator-wqu.s3.amazonaws.com/pwdata/practices.json.gz -nc -P ./pw-data"
   ]
  },
  {
   "cell_type": "markdown",
   "metadata": {},
   "source": [
    "## Loading the data\n",
    "\n",
    "The first step of the project is to read in the data. We will discuss reading and writing various kinds of files later in the course, but the code below should get you started."
   ]
  },
  {
   "cell_type": "code",
   "execution_count": 8,
   "metadata": {},
   "outputs": [],
   "source": [
    "import gzip\n",
    "import simplejson as json"
   ]
  },
  {
   "cell_type": "code",
   "execution_count": 9,
   "metadata": {},
   "outputs": [],
   "source": [
    "with gzip.open('./pw-data/201701scripts_sample.json.gz', 'rb') as f:\n",
    "    scripts = json.load(f)\n",
    "\n",
    "with gzip.open('./pw-data/practices.json.gz', 'rb') as f:\n",
    "    practices = json.load(f)"
   ]
  },
  {
   "cell_type": "markdown",
   "metadata": {},
   "source": [
    "This data set comes from Britain's National Health Service. The `scripts` variable is a list of prescriptions issued by NHS doctors. Each prescription is represented by a dictionary with various data fields: `'practice'`, `'bnf_code'`, `'bnf_name'`, `'quantity'`, `'items'`, `'nic'`, and `'act_cost'`. "
   ]
  },
  {
   "cell_type": "code",
   "execution_count": 10,
   "metadata": {},
   "outputs": [
    {
     "data": {
      "text/plain": [
       "[{'bnf_code': '0101010G0AAABAB',\n",
       "  'items': 2,\n",
       "  'practice': 'N81013',\n",
       "  'bnf_name': 'Co-Magaldrox_Susp 195mg/220mg/5ml S/F',\n",
       "  'nic': 5.98,\n",
       "  'act_cost': 5.56,\n",
       "  'quantity': 1000},\n",
       " {'bnf_code': '0101021B0AAAHAH',\n",
       "  'items': 1,\n",
       "  'practice': 'N81013',\n",
       "  'bnf_name': 'Alginate_Raft-Forming Oral Susp S/F',\n",
       "  'nic': 1.95,\n",
       "  'act_cost': 1.82,\n",
       "  'quantity': 500}]"
      ]
     },
     "execution_count": 10,
     "metadata": {},
     "output_type": "execute_result"
    }
   ],
   "source": [
    "scripts[:2]"
   ]
  },
  {
   "cell_type": "markdown",
   "metadata": {},
   "source": [
    "A [glossary of terms](http://webarchive.nationalarchives.gov.uk/20180328130852tf_/http://content.digital.nhs.uk/media/10686/Download-glossary-of-terms-for-GP-prescribing---presentation-level/pdf/PLP_Presentation_Level_Glossary_April_2015.pdf/) and [FAQ](http://webarchive.nationalarchives.gov.uk/20180328130852tf_/http://content.digital.nhs.uk/media/10048/FAQs-Practice-Level-Prescribingpdf/pdf/PLP_FAQs_April_2015.pdf/) is available from the NHS regarding the data. Below we supply a data dictionary briefly describing what these fields mean.\n",
    "\n",
    "| Data field |Description|\n",
    "|:----------:|-----------|\n",
    "|`'practice'`|Code designating the medical practice issuing the prescription|\n",
    "|`'bnf_code'`|British National Formulary drug code|\n",
    "|`'bnf_name'`|British National Formulary drug name|\n",
    "|`'quantity'`|Number of capsules/quantity of liquid/grams of powder prescribed|\n",
    "| `'items'`  |Number of refills (e.g. if `'quantity'` is 30 capsules, 3 `'items'` means 3 bottles of 30 capsules)|\n",
    "|  `'nic'`   |Net ingredient cost|\n",
    "|`'act_cost'`|Total cost including containers, fees, and discounts|"
   ]
  },
  {
   "cell_type": "markdown",
   "metadata": {},
   "source": [
    "The `practices` variable is a list of member medical practices of the NHS. Each practice is represented by a dictionary containing identifying information for the medical practice. Most of the data fields are self-explanatory. Notice the values in the `'code'` field of `practices` match the values in the `'practice'` field of `scripts`."
   ]
  },
  {
   "cell_type": "code",
   "execution_count": 11,
   "metadata": {},
   "outputs": [
    {
     "data": {
      "text/plain": [
       "[{'code': 'A81001',\n",
       "  'name': 'THE DENSHAM SURGERY',\n",
       "  'addr_1': 'THE HEALTH CENTRE',\n",
       "  'addr_2': 'LAWSON STREET',\n",
       "  'borough': 'STOCKTON ON TEES',\n",
       "  'village': 'CLEVELAND',\n",
       "  'post_code': 'TS18 1HU'},\n",
       " {'code': 'A81002',\n",
       "  'name': 'QUEENS PARK MEDICAL CENTRE',\n",
       "  'addr_1': 'QUEENS PARK MEDICAL CTR',\n",
       "  'addr_2': 'FARRER STREET',\n",
       "  'borough': 'STOCKTON ON TEES',\n",
       "  'village': 'CLEVELAND',\n",
       "  'post_code': 'TS18 2AW'}]"
      ]
     },
     "execution_count": 11,
     "metadata": {},
     "output_type": "execute_result"
    }
   ],
   "source": [
    "practices[:2]"
   ]
  },
  {
   "cell_type": "markdown",
   "metadata": {},
   "source": [
    "In the following questions we will ask you to explore this data set. You may need to combine pieces of the data set together in order to answer some questions. Not every element of the data set will be used in answering the questions."
   ]
  },
  {
   "cell_type": "markdown",
   "metadata": {},
   "source": [
    "## Question 1: summary_statistics\n",
    "\n",
    "Our beneficiary data (`scripts`) contains quantitative data on the number of items dispensed (`'items'`), the total quantity of item dispensed (`'quantity'`), the net cost of the ingredients (`'nic'`), and the actual cost to the patient (`'act_cost'`). Whenever working with a new data set, it can be useful to calculate summary statistics to develop a feeling for the volume and character of the data. This makes it easier to spot trends and significant features during further stages of analysis.\n",
    "\n",
    "Calculate the sum, mean, standard deviation, and quartile statistics for each of these quantities. Format your results for each quantity as a list: `[sum, mean, standard deviation, 1st quartile, median, 3rd quartile]`. We'll create a `tuple` with these lists for each quantity as a final result."
   ]
  },
  {
   "cell_type": "code",
   "execution_count": 19,
   "metadata": {},
   "outputs": [],
   "source": [
    "import math\n",
    "import statistics\n",
    "def describe(key):\n",
    "    lst=[]\n",
    "    for i in range(len(scripts)):\n",
    "        lst.append(scripts[i][key])\n",
    "    n=len(lst)\n",
    "    total=sum(lst)\n",
    "    avg=total/n\n",
    "    s=math.sqrt(sum([(i-avg)**2 for i in lst])/n)\n",
    "    ls=sorted(lst)\n",
    "    \n",
    "    lq = ls[:len(lst)//2]\n",
    "    uq = ls[len(lst)//2:]\n",
    "\n",
    "    q25 = statistics.median(lq)\n",
    "    med = statistics.median(lst)\n",
    "    q75 = statistics.median(uq)\n",
    "\n",
    "    return (total, avg, s, q25, med, q75)"
   ]
  },
  {
   "cell_type": "code",
   "execution_count": 20,
   "metadata": {},
   "outputs": [],
   "source": [
    "summary = [('items', describe('items')),\n",
    "           ('quantity', describe('quantity')),\n",
    "           ('nic', describe('nic')),\n",
    "           ('act_cost', describe('act_cost'))]"
   ]
  },
  {
   "cell_type": "code",
   "execution_count": 21,
   "metadata": {},
   "outputs": [
    {
     "name": "stdout",
     "output_type": "stream",
     "text": [
      "==================\n",
      "Your score: 1.000\n",
      "==================\n"
     ]
    }
   ],
   "source": [
    "grader.score.pw__summary_statistics(summary)"
   ]
  },
  {
   "cell_type": "markdown",
   "metadata": {},
   "source": [
    "## Question 2: most_common_item\n",
    "\n",
    "Often we are not interested only in how the data is distributed in our entire data set, but within particular groups -- for example, how many items of each drug (i.e. `'bnf_name'`) were prescribed? Calculate the total items prescribed for each `'bnf_name'`. What is the most commonly prescribed `'bnf_name'` in our data?\n",
    "\n",
    "To calculate this, we first need to split our data set into groups corresponding with the different values of `'bnf_name'`. Then we can sum the number of items dispensed within in each group. Finally we can find the largest sum.\n",
    "\n",
    "We'll use `'bnf_name'` to construct our groups. You should have *5619* unique values for `'bnf_name'`."
   ]
  },
  {
   "cell_type": "code",
   "execution_count": 22,
   "metadata": {},
   "outputs": [],
   "source": [
    "def getNames(key):\n",
    "    b=set()\n",
    "    lis=[]\n",
    "    leng=len(scripts[:])\n",
    "    count=0\n",
    "    while count<leng:\n",
    "        b.add(scripts[count][key])\n",
    "        count=count+1\n",
    "    lis=list(b)\n",
    "    return lis\n",
    "\n",
    "\n",
    "bnf_names = getNames('bnf_name')\n",
    "assert(len(bnf_names) == 5619)"
   ]
  },
  {
   "cell_type": "markdown",
   "metadata": {},
   "source": [
    "We want to construct \"groups\" identified by `'bnf_name'`, where each group is a collection of prescriptions (i.e. dictionaries from `scripts`). We'll construct a dictionary called `groups`, using `bnf_names` as the keys. We'll represent a group with a `list`, since we can easily append new members to the group. To split our `scripts` into groups by `'bnf_name'`, we should iterate over `scripts`, appending prescription dictionaries to each group as we encounter them."
   ]
  },
  {
   "cell_type": "code",
   "execution_count": 23,
   "metadata": {},
   "outputs": [],
   "source": [
    "groups = {name: [] for name in bnf_names}\n",
    "for script in scripts:\n",
    "    key=script['bnf_name']\n",
    "    groups[key].append(script)\n",
    "    key=''"
   ]
  },
  {
   "cell_type": "markdown",
   "metadata": {},
   "source": [
    "Now that we've constructed our groups we should sum up `'items'` in each group and find the `'bnf_name'` with the largest sum. The result, `max_item`, should have the form `[(bnf_name, item total)]`, e.g. `[('Foobar', 2000)]`."
   ]
  },
  {
   "cell_type": "code",
   "execution_count": 24,
   "metadata": {},
   "outputs": [],
   "source": [
    "def most_common_item():\n",
    "    groups = {name: [] for name in bnf_names} \n",
    "    for script in scripts:\n",
    "\n",
    "         groups[script['bnf_name']].append(script)\n",
    "    maxx=0\n",
    "    for i in groups:\n",
    "        summ=0\n",
    "        for j in range(len(groups[i])):\n",
    "            summ+=(groups[i][j]['items'])\n",
    "        if summ>=maxx:\n",
    "            maxx=summ\n",
    "            name1=i\n",
    "    return [(tuple((name1, maxx)))]"
   ]
  },
  {
   "cell_type": "code",
   "execution_count": null,
   "metadata": {},
   "outputs": [],
   "source": [
    "max_item = [(\"\", 0)]"
   ]
  },
  {
   "cell_type": "code",
   "execution_count": 25,
   "metadata": {},
   "outputs": [],
   "source": [
    "max_item = most_common_item()"
   ]
  },
  {
   "cell_type": "markdown",
   "metadata": {},
   "source": [
    "**TIP:** If you are getting an error from the grader below, please make sure your answer conforms to the correct format of `[(bnf_name, item total)]`."
   ]
  },
  {
   "cell_type": "code",
   "execution_count": 26,
   "metadata": {},
   "outputs": [
    {
     "name": "stdout",
     "output_type": "stream",
     "text": [
      "==================\n",
      "Your score: 1.000\n",
      "==================\n"
     ]
    }
   ],
   "source": [
    "grader.score.pw__most_common_item(max_item)"
   ]
  },
  {
   "cell_type": "markdown",
   "metadata": {},
   "source": [
    "**Challenge:** Write a function that constructs groups as we did above. The function should accept a list of dictionaries (e.g. `scripts` or `practices`) and a tuple of fields to `groupby` (e.g. `('bnf_name',)` or `('bnf_name', 'post_code')`) and returns a dictionary of groups. The following questions will require you to aggregate data in groups, so this could be a useful function for the rest of the miniproject."
   ]
  },
  {
   "cell_type": "code",
   "execution_count": null,
   "metadata": {},
   "outputs": [],
   "source": [
    "def group_by_field(data, fields):\n",
    "    groups = {}\n",
    "    return groups"
   ]
  },
  {
   "cell_type": "code",
   "execution_count": null,
   "metadata": {},
   "outputs": [],
   "source": [
    "groups = group_by_field(scripts, ('bnf_name',))\n",
    "test_max_item = ...\n",
    "\n",
    "assert test_max_item == max_item"
   ]
  },
  {
   "cell_type": "markdown",
   "metadata": {},
   "source": [
    "## Question 3: postal_totals\n",
    "\n",
    "Our data set is broken up among different files. This is typical for tabular data to reduce redundancy. Each table typically contains data about a particular type of event, processes, or physical object. Data on prescriptions and medical practices are in separate files in our case. If we want to find the total items prescribed in each postal code, we will have to _join_ our prescription data (`scripts`) to our clinic data (`practices`).\n",
    "\n",
    "Find the total items prescribed in each postal code, representing the results as a list of tuples `(post code, total items prescribed)`. Sort your results ascending alphabetically by post code and take only results from the first 100 post codes. Only include post codes if there is at least one prescription from a practice in that post code.\n",
    "\n",
    "**NOTE:** Some practices have multiple postal codes associated with them. Use the alphabetically first postal code."
   ]
  },
  {
   "cell_type": "markdown",
   "metadata": {},
   "source": [
    "We can join `scripts` and `practices` based on the fact that `'practice'` in `scripts` matches `'code'` in `practices`. However, we must first deal with the repeated values of `'code'` in `practices`. We want the alphabetically first postal codes."
   ]
  },
  {
   "cell_type": "code",
   "execution_count": 27,
   "metadata": {},
   "outputs": [],
   "source": [
    "practice_postal = {}\n",
    "for practice in practices:\n",
    "    if practice['code'] in practice_postal:\n",
    "        practice_postal[practice['code']] = practice['post_code'] if practice['post_code'] < practice_postal[practice['code']] else practice_postal[practice['code']]\n",
    "    else:\n",
    "        practice_postal[practice['code']] = practice['post_code']"
   ]
  },
  {
   "cell_type": "markdown",
   "metadata": {},
   "source": [
    "**Challenge:** This is an aggregation of the practice data grouped by practice codes. Write an alternative implementation of the above cell using the `group_by_field` function you defined previously."
   ]
  },
  {
   "cell_type": "code",
   "execution_count": null,
   "metadata": {},
   "outputs": [],
   "source": [
    "assert practice_postal['K82019'] == 'HP21 8TR'"
   ]
  },
  {
   "cell_type": "markdown",
   "metadata": {},
   "source": [
    "Now we can join `practice_postal` to `scripts`."
   ]
  },
  {
   "cell_type": "code",
   "execution_count": 28,
   "metadata": {},
   "outputs": [],
   "source": [
    "joined = scripts[:]\n",
    "for script in joined:\n",
    "    script['post_code'] = practice_postal[script['practice']]"
   ]
  },
  {
   "cell_type": "code",
   "execution_count": null,
   "metadata": {},
   "outputs": [],
   "source": []
  },
  {
   "cell_type": "markdown",
   "metadata": {},
   "source": [
    "Finally we'll group the prescription dictionaries in `joined` by `'post_code'` and sum up the items prescribed in each group, as we did in the previous question."
   ]
  },
  {
   "cell_type": "code",
   "execution_count": 29,
   "metadata": {},
   "outputs": [],
   "source": [
    "def group_by_field(data, fields):\n",
    "    names = {dict_[fields] for dict_ in data}\n",
    "    groups = {name: [] for name in names}\n",
    "    for dict_ in data:\n",
    "        name = dict_[fields]\n",
    "        groups[name].append(dict_)\n",
    "\n",
    "    return groups"
   ]
  },
  {
   "cell_type": "code",
   "execution_count": 30,
   "metadata": {},
   "outputs": [],
   "source": [
    "items_by_post = ..."
   ]
  },
  {
   "cell_type": "code",
   "execution_count": 31,
   "metadata": {
    "scrolled": true
   },
   "outputs": [
    {
     "ename": "KeyError",
     "evalue": "'postal_code'",
     "output_type": "error",
     "traceback": [
      "\u001b[0;31m---------------------------------------------------------------------------\u001b[0m",
      "\u001b[0;31mKeyError\u001b[0m                                  Traceback (most recent call last)",
      "\u001b[0;32m<ipython-input-31-35a54bbb3596>\u001b[0m in \u001b[0;36m<module>\u001b[0;34m\u001b[0m\n\u001b[0;32m----> 1\u001b[0;31m \u001b[0mitems_by_post\u001b[0m \u001b[0;34m=\u001b[0m \u001b[0mgroup_by_field\u001b[0m\u001b[0;34m(\u001b[0m\u001b[0mjoined\u001b[0m\u001b[0;34m,\u001b[0m\u001b[0;34m'postal_code'\u001b[0m\u001b[0;34m)\u001b[0m\u001b[0;34m\u001b[0m\u001b[0;34m\u001b[0m\u001b[0m\n\u001b[0m",
      "\u001b[0;32m<ipython-input-29-a43f4ca80eae>\u001b[0m in \u001b[0;36mgroup_by_field\u001b[0;34m(data, fields)\u001b[0m\n\u001b[1;32m      1\u001b[0m \u001b[0;32mdef\u001b[0m \u001b[0mgroup_by_field\u001b[0m\u001b[0;34m(\u001b[0m\u001b[0mdata\u001b[0m\u001b[0;34m,\u001b[0m \u001b[0mfields\u001b[0m\u001b[0;34m)\u001b[0m\u001b[0;34m:\u001b[0m\u001b[0;34m\u001b[0m\u001b[0;34m\u001b[0m\u001b[0m\n\u001b[0;32m----> 2\u001b[0;31m     \u001b[0mnames\u001b[0m \u001b[0;34m=\u001b[0m \u001b[0;34m{\u001b[0m\u001b[0mdict_\u001b[0m\u001b[0;34m[\u001b[0m\u001b[0mfields\u001b[0m\u001b[0;34m]\u001b[0m \u001b[0;32mfor\u001b[0m \u001b[0mdict_\u001b[0m \u001b[0;32min\u001b[0m \u001b[0mdata\u001b[0m\u001b[0;34m}\u001b[0m\u001b[0;34m\u001b[0m\u001b[0;34m\u001b[0m\u001b[0m\n\u001b[0m\u001b[1;32m      3\u001b[0m     \u001b[0mgroups\u001b[0m \u001b[0;34m=\u001b[0m \u001b[0;34m{\u001b[0m\u001b[0mname\u001b[0m\u001b[0;34m:\u001b[0m \u001b[0;34m[\u001b[0m\u001b[0;34m]\u001b[0m \u001b[0;32mfor\u001b[0m \u001b[0mname\u001b[0m \u001b[0;32min\u001b[0m \u001b[0mnames\u001b[0m\u001b[0;34m}\u001b[0m\u001b[0;34m\u001b[0m\u001b[0;34m\u001b[0m\u001b[0m\n\u001b[1;32m      4\u001b[0m     \u001b[0;32mfor\u001b[0m \u001b[0mdict_\u001b[0m \u001b[0;32min\u001b[0m \u001b[0mdata\u001b[0m\u001b[0;34m:\u001b[0m\u001b[0;34m\u001b[0m\u001b[0;34m\u001b[0m\u001b[0m\n\u001b[1;32m      5\u001b[0m         \u001b[0mname\u001b[0m \u001b[0;34m=\u001b[0m \u001b[0mdict_\u001b[0m\u001b[0;34m[\u001b[0m\u001b[0mfields\u001b[0m\u001b[0;34m]\u001b[0m\u001b[0;34m\u001b[0m\u001b[0;34m\u001b[0m\u001b[0m\n",
      "\u001b[0;32m<ipython-input-29-a43f4ca80eae>\u001b[0m in \u001b[0;36m<setcomp>\u001b[0;34m(.0)\u001b[0m\n\u001b[1;32m      1\u001b[0m \u001b[0;32mdef\u001b[0m \u001b[0mgroup_by_field\u001b[0m\u001b[0;34m(\u001b[0m\u001b[0mdata\u001b[0m\u001b[0;34m,\u001b[0m \u001b[0mfields\u001b[0m\u001b[0;34m)\u001b[0m\u001b[0;34m:\u001b[0m\u001b[0;34m\u001b[0m\u001b[0;34m\u001b[0m\u001b[0m\n\u001b[0;32m----> 2\u001b[0;31m     \u001b[0mnames\u001b[0m \u001b[0;34m=\u001b[0m \u001b[0;34m{\u001b[0m\u001b[0mdict_\u001b[0m\u001b[0;34m[\u001b[0m\u001b[0mfields\u001b[0m\u001b[0;34m]\u001b[0m \u001b[0;32mfor\u001b[0m \u001b[0mdict_\u001b[0m \u001b[0;32min\u001b[0m \u001b[0mdata\u001b[0m\u001b[0;34m}\u001b[0m\u001b[0;34m\u001b[0m\u001b[0;34m\u001b[0m\u001b[0m\n\u001b[0m\u001b[1;32m      3\u001b[0m     \u001b[0mgroups\u001b[0m \u001b[0;34m=\u001b[0m \u001b[0;34m{\u001b[0m\u001b[0mname\u001b[0m\u001b[0;34m:\u001b[0m \u001b[0;34m[\u001b[0m\u001b[0;34m]\u001b[0m \u001b[0;32mfor\u001b[0m \u001b[0mname\u001b[0m \u001b[0;32min\u001b[0m \u001b[0mnames\u001b[0m\u001b[0;34m}\u001b[0m\u001b[0;34m\u001b[0m\u001b[0;34m\u001b[0m\u001b[0m\n\u001b[1;32m      4\u001b[0m     \u001b[0;32mfor\u001b[0m \u001b[0mdict_\u001b[0m \u001b[0;32min\u001b[0m \u001b[0mdata\u001b[0m\u001b[0;34m:\u001b[0m\u001b[0;34m\u001b[0m\u001b[0;34m\u001b[0m\u001b[0m\n\u001b[1;32m      5\u001b[0m         \u001b[0mname\u001b[0m \u001b[0;34m=\u001b[0m \u001b[0mdict_\u001b[0m\u001b[0;34m[\u001b[0m\u001b[0mfields\u001b[0m\u001b[0;34m]\u001b[0m\u001b[0;34m\u001b[0m\u001b[0;34m\u001b[0m\u001b[0m\n",
      "\u001b[0;31mKeyError\u001b[0m: 'postal_code'"
     ]
    }
   ],
   "source": [
    "items_by_post = group_by_field(joined,'postal_code')\n"
   ]
  },
  {
   "cell_type": "code",
   "execution_count": 32,
   "metadata": {},
   "outputs": [],
   "source": [
    "items_by_post = {}\n",
    "for join in joined:\n",
    "    if join['post_code'] in items_by_post:\n",
    "        items_by_post[join['post_code']]=items_by_post[join['post_code']]+join['items']\n",
    "    else:\n",
    "        items_by_post[join['post_code']]=join['items']"
   ]
  },
  {
   "cell_type": "code",
   "execution_count": 33,
   "metadata": {},
   "outputs": [
    {
     "name": "stdout",
     "output_type": "stream",
     "text": [
      "==================\n",
      "Your score: 1.000\n",
      "==================\n"
     ]
    }
   ],
   "source": [
    "sort_ = sorted(items_by_post)\n",
    "postal_total = []\n",
    "for key in sort_:\n",
    "    postal_total.append((key, items_by_post[key]))\n",
    "\n",
    "postal_totals = postal_total[:100]\n",
    "grader.score.pw__postal_totals(postal_totals)"
   ]
  },
  {
   "cell_type": "code",
   "execution_count": null,
   "metadata": {},
   "outputs": [],
   "source": [
    "postal_totals = [('B11 4BW', 20673)] * 100\n",
    "\n",
    "grader.score.pw__postal_totals(postal_totals)"
   ]
  },
  {
   "cell_type": "markdown",
   "metadata": {},
   "source": [
    "## Question 4: items_by_region\n",
    "\n",
    "Now we'll combine the techniques we've developed to answer a more complex question. Find the most commonly dispensed item in each postal code, representing the results as a list of tuples (`post_code`, `bnf_name`, amount dispensed as proportion of total). Sort your results ascending alphabetically by post code and take only results from the first 100 post codes.\n",
    "\n",
    "**NOTE:** We'll continue to use the `joined` variable we created before, where we've chosen the alphabetically first postal code for each practice. Additionally, some postal codes will have multiple `'bnf_name'` with the same number of items prescribed for the maximum. In this case, we'll take the alphabetically first `'bnf_name'`.\n",
    "\n",
    "There are several approaches to solve this problem but we will guide you through one of them. Feel free to solve it your own way if it is easier for you to understand and implement. If your kernel keeps on dying, it's probably an indication that you are running out of memory. Consider deleting objects you don't need anymore using the `del` statement and shutdown any other running notebooks. For example:\n",
    "```Python\n",
    "del some_object_not_needed\n",
    "```"
   ]
  },
  {
   "cell_type": "markdown",
   "metadata": {},
   "source": [
    "The first step is to calculate the total items for each `'post_code'` and `'bnf_name'`. Let's call that result `total_items_by_post_bnf`. Consider what is the best data structure(s) to represent `total_items_by_post_bnf`. It should have 141196 `('post_code', 'bnf_name')` groups."
   ]
  },
  {
   "cell_type": "code",
   "execution_count": 34,
   "metadata": {},
   "outputs": [],
   "source": [
    "def group_by_field(data,fields):\n",
    "    names={tuple(dict_[field] for field in fields)\n",
    "           for dict_ in data}\n",
    "    groups= {name: [] for name in names}\n",
    "    for dict_ in data:\n",
    "        name = tuple(dict_[field] for field in fields)\n",
    "        groups[name].append(dict_)\n",
    "    return groups"
   ]
  },
  {
   "cell_type": "code",
   "execution_count": 36,
   "metadata": {},
   "outputs": [],
   "source": [
    "total_items_by_bnf_post = {}\n",
    "for key, group in list(group_by_field(joined, ('post_code', 'bnf_name')).items()):\n",
    "    items_total=sum(d['items'] for d in group)\n",
    "    total_items_by_bnf_post[key]=items_total \n",
    "assert len(total_items_by_bnf_post) == 141196"
   ]
  },
  {
   "cell_type": "markdown",
   "metadata": {},
   "source": [
    "Next, let's take `total_items_by_post_bnf` and group it by `'post_code'`. In other words, we want a  data structure that maps a `'post_code'` to a list of all records that belong to that `'post_code'`. There should be 118 groups."
   ]
  },
  {
   "cell_type": "code",
   "execution_count": 37,
   "metadata": {},
   "outputs": [],
   "source": [
    "total_items = []\n",
    "for (post_code, bnf_name), total in list(total_items_by_bnf_post.items()):\n",
    "        new_dict = {'post_code' : post_code,\n",
    "                    'bnf_name' : bnf_name,\n",
    "                    'total' : total}\n",
    "        total_items.append(new_dict)"
   ]
  },
  {
   "cell_type": "code",
   "execution_count": 39,
   "metadata": {},
   "outputs": [],
   "source": [
    "total_items_by_post=group_by_field(total_items, ('post_code',))\n",
    "assert len(total_items_by_post) == 118\n"
   ]
  },
  {
   "cell_type": "markdown",
   "metadata": {},
   "source": [
    "Now with `grouped_post_code`, let's iterate over each group and calculate the following fields for each `'post_code'`:\n",
    "1. the sum of total items for all `'bnf_name'`\n",
    "1. the most total items\n",
    "1. the `'bnf_name'` that had the most total items\n",
    "\n",
    "Once again, consider the best data structure(s) to use to represent the result. It may help to write and use a function when developing your solution."
   ]
  },
  {
   "cell_type": "code",
   "execution_count": 40,
   "metadata": {},
   "outputs": [],
   "source": [
    "max_item_by_post = max(total_items_by_post)"
   ]
  },
  {
   "cell_type": "markdown",
   "metadata": {},
   "source": [
    "Now, we are ready to:\n",
    "1. calculate the ratio (the amount dispensed as proportion of total)\n",
    "1. [sort](https://docs.python.org/3/howto/sorting.html) alphabetically by the post code\n",
    "1. format the answer as a list of tuples\n",
    "1. take only the first 100 tuples\n",
    "1. submit to the grader"
   ]
  },
  {
   "cell_type": "code",
   "execution_count": 41,
   "metadata": {},
   "outputs": [],
   "source": [
    "from operator import itemgetter\n",
    "get_total = itemgetter('total')\n",
    "max_item_by_post = []\n",
    "groups = list(total_items_by_post.values())\n",
    "for group in groups:\n",
    "    max_total = sorted(group, key=itemgetter('total'), reverse=True)[0]\n",
    "    max_item_by_post.append(max_total)"
   ]
  },
  {
   "cell_type": "code",
   "execution_count": 42,
   "metadata": {},
   "outputs": [],
   "source": [
    "max_item_by_post = [sorted(group, key=itemgetter('total'), reverse=True)[0]\n",
    "                    for group in list(total_items_by_post.values())]"
   ]
  },
  {
   "cell_type": "code",
   "execution_count": 43,
   "metadata": {},
   "outputs": [],
   "source": [
    "items_by_region=[]\n",
    "for item in max_item_by_post:\n",
    "    numerator= item['total']\n",
    "    denominator=dict(items_by_post)[item['post_code']]\n",
    "    proportion=numerator/denominator\n",
    "    result=(item['post_code'], item['bnf_name'], proportion)\n",
    "    items_by_region.append(result) \n",
    "items_by_region = sorted(items_by_region)[:100] "
   ]
  },
  {
   "cell_type": "code",
   "execution_count": 44,
   "metadata": {},
   "outputs": [
    {
     "name": "stdout",
     "output_type": "stream",
     "text": [
      "==================\n",
      "Your score: 1.000\n",
      "==================\n"
     ]
    }
   ],
   "source": [
    "grader.score.pw__items_by_region(items_by_region)"
   ]
  },
  {
   "cell_type": "code",
   "execution_count": null,
   "metadata": {},
   "outputs": [],
   "source": [
    "items_by_region = [('B11 4BW', 'Salbutamol_Inha 100mcg (200 D) CFF', 0.0341508247)] * 100"
   ]
  },
  {
   "cell_type": "code",
   "execution_count": null,
   "metadata": {},
   "outputs": [],
   "source": [
    "grader.score.pw__items_by_region(items_by_region)"
   ]
  },
  {
   "cell_type": "markdown",
   "metadata": {},
   "source": [
    "*Copyright &copy; 2021 WorldQuant University. This content is licensed solely for personal use. Redistribution or publication of this material is strictly prohibited.*"
   ]
  }
 ],
 "metadata": {
  "kernelspec": {
   "display_name": "Python 3",
   "language": "python",
   "name": "python3"
  },
  "language_info": {
   "codemirror_mode": {
    "name": "ipython",
    "version": 3
   },
   "file_extension": ".py",
   "mimetype": "text/x-python",
   "name": "python",
   "nbconvert_exporter": "python",
   "pygments_lexer": "ipython3",
   "version": "3.8.8"
  },
  "nbclean": true
 },
 "nbformat": 4,
 "nbformat_minor": 1
}
